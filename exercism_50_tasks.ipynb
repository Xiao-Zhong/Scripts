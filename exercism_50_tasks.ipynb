{
 "cells": [
  {
   "cell_type": "code",
   "execution_count": 26,
   "metadata": {},
   "outputs": [],
   "source": [
    "function is_leap_year(year)\n",
    "    if (year % 4 === 0) && (year % 100 !== 0) || (year % 400 === 0)\n",
    "        return true\n",
    "    end\n",
    "end\n",
    "\n",
    "is_leap_year(2015)\n"
   ]
  },
  {
   "cell_type": "code",
   "execution_count": 40,
   "metadata": {},
   "outputs": [
    {
     "data": {
      "text/plain": [
       "Dict{Char, Int64} with 4 entries:\n",
       "  'A' => 2\n",
       "  'G' => 0\n",
       "  'T' => 1\n",
       "  'C' => 2"
      ]
     },
     "execution_count": 40,
     "metadata": {},
     "output_type": "execute_result"
    }
   ],
   "source": [
    "function count_nucleotides(strand)\n",
    "    a = 0; c = 0; g = 0; t = 0\n",
    "    for x in strand\n",
    "        if x == 'A'\n",
    "            a += 1\n",
    "        elseif x == 'C'\n",
    "            c += 1\n",
    "        elseif x == 'G'\n",
    "            g += 1\n",
    "        elseif x == 'T'\n",
    "            t += 1\n",
    "        else\n",
    "            throw(DomainError(x, \"Not a valid nucleotide\"))\n",
    "        end\n",
    "    end\n",
    "    return Dict('A' => a, 'C' => c, 'G' => g, 'T' => t)\n",
    "end\n",
    "\n",
    "count_nucleotides(\"CACAT\")"
   ]
  },
  {
   "cell_type": "code",
   "execution_count": 115,
   "metadata": {},
   "outputs": [
    {
     "data": {
      "text/plain": [
       "true"
      ]
     },
     "execution_count": 115,
     "metadata": {},
     "output_type": "execute_result"
    }
   ],
   "source": [
    "\"\"\"\n",
    "    ispangram(input)\n",
    "\n",
    "Return `true` if `input` contains every alphabetic character (case insensitive).\n",
    "\n",
    "\"\"\"\n",
    "function ispangram(input)\n",
    "    input = uppercase(input)\n",
    "\n",
    "    bad = 0\n",
    "    for char in ('A':'Z')\n",
    "        #println(char)\n",
    "        if ! (char in input)\n",
    "            bad = 1; break\n",
    "        end\n",
    "    end\n",
    "\n",
    "    if (bad === 1)\n",
    "        return false\n",
    "    else\n",
    "        return true\n",
    "    end\n",
    "end\n",
    "\n",
    "ispangram(\"The quick brown fox jumps over the lazy dog.\")\n",
    "#ispangram(\"a quick movement of the enemy will jeopardize five gunboats\")"
   ]
  },
  {
   "cell_type": "code",
   "execution_count": 201,
   "metadata": {},
   "outputs": [
    {
     "ename": "LoadError",
     "evalue": "MethodError: no method matching Char(::String)\n\u001b[0mClosest candidates are:\n\u001b[0m  (::Type{T})(\u001b[91m::T\u001b[39m) where T<:AbstractChar at char.jl:51\n\u001b[0m  (::Type{T})(\u001b[91m::AbstractChar\u001b[39m) where T<:Union{AbstractChar, Number} at char.jl:50\n\u001b[0m  Char(\u001b[91m::UInt32\u001b[39m) at char.jl:158\n\u001b[0m  ...",
     "output_type": "error",
     "traceback": [
      "MethodError: no method matching Char(::String)\n\u001b[0mClosest candidates are:\n\u001b[0m  (::Type{T})(\u001b[91m::T\u001b[39m) where T<:AbstractChar at char.jl:51\n\u001b[0m  (::Type{T})(\u001b[91m::AbstractChar\u001b[39m) where T<:Union{AbstractChar, Number} at char.jl:50\n\u001b[0m  Char(\u001b[91m::UInt32\u001b[39m) at char.jl:158\n\u001b[0m  ...",
      "",
      "Stacktrace:",
      " [1] rotate(shift::Int64, old::Char)",
      "   @ Main ./In[201]:27",
      " [2] top-level scope",
      "   @ In[201]:33",
      " [3] eval",
      "   @ ./boot.jl:360 [inlined]",
      " [4] include_string(mapexpr::typeof(REPL.softscope), mod::Module, code::String, filename::String)",
      "   @ Base ./loading.jl:1116"
     ]
    }
   ],
   "source": [
    "function rotate(shift, old)\n",
    "    new = \"\"\n",
    "    for x in old\n",
    "        if islowercase(x)\n",
    "            oldstart = findfirst(isequal(x), ('a' : 'z'))\n",
    "        else\n",
    "            oldstart = findfirst(isequal(x), ('A' : 'Z'))\n",
    "        end\n",
    "\n",
    "        if oldstart !== nothing\n",
    "            newstart = oldstart + shift\n",
    "            if newstart > 26; newstart -= 26; end\n",
    "            \n",
    "            if islowercase(x)\n",
    "                newletter = ('a' : 'z')[newstart]\n",
    "            else\n",
    "                newletter = ('A' : 'Z')[newstart]\n",
    "            end\n",
    "            \n",
    "            new *=newletter\n",
    "        else\n",
    "            new *=x\n",
    "        end\n",
    "    end\n",
    "\n",
    "    if isa(old, Char)\n",
    "        return Char(new)\n",
    "    else \n",
    "        return new\n",
    "    end\n",
    "end\n",
    "\n",
    "rotate(2, 'C')"
   ]
  },
  {
   "cell_type": "code",
   "execution_count": 211,
   "metadata": {},
   "outputs": [
    {
     "data": {
      "text/plain": [
       "\"1\""
      ]
     },
     "execution_count": 211,
     "metadata": {},
     "output_type": "execute_result"
    }
   ],
   "source": [
    "function raindrops(number)\n",
    "    sounds = \"\"\n",
    "    if number%3 !== 0 && number%5 !== 0 && number%7 !== 0\n",
    "        sounds = \"$number\" \n",
    "    else\n",
    "\n",
    "        if number%3 === 0\n",
    "            sounds *= \"Pling\"\n",
    "        end\n",
    "    \n",
    "        if number%5 === 0\n",
    "            sounds *= \"Plang\"\n",
    "        end\n",
    "    \n",
    "        if number%7 === 0\n",
    "            sounds *= \"Plong\"\n",
    "        end\n",
    "    end\n",
    "    return sounds\n",
    "end\n",
    "\n",
    "#raindrops(28)\n",
    "#raindrops(30)\n",
    "#raindrops(34)\n",
    "raindrops(1)"
   ]
  },
  {
   "cell_type": "code",
   "execution_count": 47,
   "metadata": {},
   "outputs": [
    {
     "data": {
      "text/plain": [
       "2-element Vector{Any}:\n",
       " \"double blink\"\n",
       " \"wink\""
      ]
     },
     "execution_count": 47,
     "metadata": {},
     "output_type": "execute_result"
    }
   ],
   "source": [
    "D = Dict(\"1\" => \"wink\", \n",
    "        \"10\" => \"double blink\", \n",
    "        \"100\" => \"close your eyes\",\n",
    "        \"1000\" => \"jump\",\n",
    "        \"10000\" => \"Reverse\")\n",
    "\n",
    "function secret_handshake(number)\n",
    "    binarystring = string(number, base=2)\n",
    "    \n",
    "    have10000 = 0\n",
    "    arr = []\n",
    "    p = 1\n",
    "    for x in reverse(split(binarystring, \"\"))\n",
    "        if x == \"1\"\n",
    "            code = \"$x\" * '0'^(p-1)\n",
    "            if code !== \"10000\"\n",
    "                if haskey(D, code)\n",
    "                    push!(arr, D[code])\n",
    "                else\n",
    "                    break\n",
    "                end\n",
    "            else\n",
    "                have10000 = 1\n",
    "            end\n",
    "        end\n",
    "        p +=1\n",
    "    end\n",
    "\n",
    "    if have10000 === 1\n",
    "        reverse!(arr)\n",
    "    end\n",
    "    return arr\n",
    "end\n",
    "secret_handshake(19)"
   ]
  },
  {
   "cell_type": "code",
   "execution_count": 212,
   "metadata": {},
   "outputs": [
    {
     "name": "stdout",
     "output_type": "stream",
     "text": [
      "lower\n",
      "upper\n",
      "lower\n"
     ]
    }
   ],
   "source": [
    "x = \"abc\"\n",
    "\n",
    "for x in \"aBc\"\n",
    "    if islowercase(x)\n",
    "        println(\"lower\")\n",
    "    else\n",
    "        println(\"upper\")\n",
    "    end\n",
    "end"
   ]
  }
 ],
 "metadata": {
  "kernelspec": {
   "display_name": "Julia 1.6.2",
   "language": "julia",
   "name": "julia-1.6"
  },
  "language_info": {
   "file_extension": ".jl",
   "mimetype": "application/julia",
   "name": "julia",
   "version": "1.6.2"
  },
  "orig_nbformat": 4
 },
 "nbformat": 4,
 "nbformat_minor": 2
}
